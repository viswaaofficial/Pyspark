{
  "cells": [
    {
      "cell_type": "code",
      "execution_count": 2,
      "id": "faa21da4",
      "metadata": {
        "colab": {
          "base_uri": "https://localhost:8080/"
        },
        "id": "faa21da4",
        "outputId": "352fae4c-7f71-4967-c2cd-afe298c9d7e2"
      },
      "outputs": [
        {
          "output_type": "stream",
          "name": "stdout",
          "text": [
            "Collecting pyspark\n",
            "  Downloading pyspark-3.4.1.tar.gz (310.8 MB)\n",
            "\u001b[2K     \u001b[90m━━━━━━━━━━━━━━━━━━━━━━━━━━━━━━━━━━━━━━━\u001b[0m \u001b[32m310.8/310.8 MB\u001b[0m \u001b[31m2.2 MB/s\u001b[0m eta \u001b[36m0:00:00\u001b[0m\n",
            "\u001b[?25h  Preparing metadata (setup.py) ... \u001b[?25l\u001b[?25hdone\n",
            "Requirement already satisfied: py4j==0.10.9.7 in /usr/local/lib/python3.10/dist-packages (from pyspark) (0.10.9.7)\n",
            "Building wheels for collected packages: pyspark\n",
            "  Building wheel for pyspark (setup.py) ... \u001b[?25l\u001b[?25hdone\n",
            "  Created wheel for pyspark: filename=pyspark-3.4.1-py2.py3-none-any.whl size=311285387 sha256=b4a0e83a3afb11cb889a1fe119ba3761c3be2654990a32508dab3023506472fd\n",
            "  Stored in directory: /root/.cache/pip/wheels/0d/77/a3/ff2f74cc9ab41f8f594dabf0579c2a7c6de920d584206e0834\n",
            "Successfully built pyspark\n",
            "Installing collected packages: pyspark\n",
            "Successfully installed pyspark-3.4.1\n"
          ]
        }
      ],
      "source": [
        "!pip install pyspark"
      ]
    },
    {
      "cell_type": "code",
      "execution_count": 3,
      "id": "4fac66c0",
      "metadata": {
        "id": "4fac66c0"
      },
      "outputs": [],
      "source": [
        "import pyspark"
      ]
    },
    {
      "cell_type": "markdown",
      "id": "1faf57fa",
      "metadata": {
        "id": "1faf57fa"
      },
      "source": [
        "First let's write code in RDD Level"
      ]
    },
    {
      "cell_type": "code",
      "execution_count": 5,
      "id": "68f56573",
      "metadata": {
        "colab": {
          "base_uri": "https://localhost:8080/",
          "height": 143
        },
        "id": "68f56573",
        "outputId": "a4bdee70-d1ff-4e06-fdc4-0040a3ad9d8a"
      },
      "outputs": [
        {
          "output_type": "execute_result",
          "data": {
            "text/plain": [
              "      name  age  experience\n",
              "0   Viswaa   19          10\n",
              "1  Vignesh   30           8\n",
              "2   Ganesh   26           4"
            ],
            "text/html": [
              "\n",
              "  <div id=\"df-89e0a96c-36bd-468e-87c0-0a80446bca0a\" class=\"colab-df-container\">\n",
              "    <div>\n",
              "<style scoped>\n",
              "    .dataframe tbody tr th:only-of-type {\n",
              "        vertical-align: middle;\n",
              "    }\n",
              "\n",
              "    .dataframe tbody tr th {\n",
              "        vertical-align: top;\n",
              "    }\n",
              "\n",
              "    .dataframe thead th {\n",
              "        text-align: right;\n",
              "    }\n",
              "</style>\n",
              "<table border=\"1\" class=\"dataframe\">\n",
              "  <thead>\n",
              "    <tr style=\"text-align: right;\">\n",
              "      <th></th>\n",
              "      <th>name</th>\n",
              "      <th>age</th>\n",
              "      <th>experience</th>\n",
              "    </tr>\n",
              "  </thead>\n",
              "  <tbody>\n",
              "    <tr>\n",
              "      <th>0</th>\n",
              "      <td>Viswaa</td>\n",
              "      <td>19</td>\n",
              "      <td>10</td>\n",
              "    </tr>\n",
              "    <tr>\n",
              "      <th>1</th>\n",
              "      <td>Vignesh</td>\n",
              "      <td>30</td>\n",
              "      <td>8</td>\n",
              "    </tr>\n",
              "    <tr>\n",
              "      <th>2</th>\n",
              "      <td>Ganesh</td>\n",
              "      <td>26</td>\n",
              "      <td>4</td>\n",
              "    </tr>\n",
              "  </tbody>\n",
              "</table>\n",
              "</div>\n",
              "    <div class=\"colab-df-buttons\">\n",
              "\n",
              "  <div class=\"colab-df-container\">\n",
              "    <button class=\"colab-df-convert\" onclick=\"convertToInteractive('df-89e0a96c-36bd-468e-87c0-0a80446bca0a')\"\n",
              "            title=\"Convert this dataframe to an interactive table.\"\n",
              "            style=\"display:none;\">\n",
              "\n",
              "  <svg xmlns=\"http://www.w3.org/2000/svg\" height=\"24px\" viewBox=\"0 -960 960 960\">\n",
              "    <path d=\"M120-120v-720h720v720H120Zm60-500h600v-160H180v160Zm220 220h160v-160H400v160Zm0 220h160v-160H400v160ZM180-400h160v-160H180v160Zm440 0h160v-160H620v160ZM180-180h160v-160H180v160Zm440 0h160v-160H620v160Z\"/>\n",
              "  </svg>\n",
              "    </button>\n",
              "\n",
              "  <style>\n",
              "    .colab-df-container {\n",
              "      display:flex;\n",
              "      gap: 12px;\n",
              "    }\n",
              "\n",
              "    .colab-df-convert {\n",
              "      background-color: #E8F0FE;\n",
              "      border: none;\n",
              "      border-radius: 50%;\n",
              "      cursor: pointer;\n",
              "      display: none;\n",
              "      fill: #1967D2;\n",
              "      height: 32px;\n",
              "      padding: 0 0 0 0;\n",
              "      width: 32px;\n",
              "    }\n",
              "\n",
              "    .colab-df-convert:hover {\n",
              "      background-color: #E2EBFA;\n",
              "      box-shadow: 0px 1px 2px rgba(60, 64, 67, 0.3), 0px 1px 3px 1px rgba(60, 64, 67, 0.15);\n",
              "      fill: #174EA6;\n",
              "    }\n",
              "\n",
              "    .colab-df-buttons div {\n",
              "      margin-bottom: 4px;\n",
              "    }\n",
              "\n",
              "    [theme=dark] .colab-df-convert {\n",
              "      background-color: #3B4455;\n",
              "      fill: #D2E3FC;\n",
              "    }\n",
              "\n",
              "    [theme=dark] .colab-df-convert:hover {\n",
              "      background-color: #434B5C;\n",
              "      box-shadow: 0px 1px 3px 1px rgba(0, 0, 0, 0.15);\n",
              "      filter: drop-shadow(0px 1px 2px rgba(0, 0, 0, 0.3));\n",
              "      fill: #FFFFFF;\n",
              "    }\n",
              "  </style>\n",
              "\n",
              "    <script>\n",
              "      const buttonEl =\n",
              "        document.querySelector('#df-89e0a96c-36bd-468e-87c0-0a80446bca0a button.colab-df-convert');\n",
              "      buttonEl.style.display =\n",
              "        google.colab.kernel.accessAllowed ? 'block' : 'none';\n",
              "\n",
              "      async function convertToInteractive(key) {\n",
              "        const element = document.querySelector('#df-89e0a96c-36bd-468e-87c0-0a80446bca0a');\n",
              "        const dataTable =\n",
              "          await google.colab.kernel.invokeFunction('convertToInteractive',\n",
              "                                                    [key], {});\n",
              "        if (!dataTable) return;\n",
              "\n",
              "        const docLinkHtml = 'Like what you see? Visit the ' +\n",
              "          '<a target=\"_blank\" href=https://colab.research.google.com/notebooks/data_table.ipynb>data table notebook</a>'\n",
              "          + ' to learn more about interactive tables.';\n",
              "        element.innerHTML = '';\n",
              "        dataTable['output_type'] = 'display_data';\n",
              "        await google.colab.output.renderOutput(dataTable, element);\n",
              "        const docLink = document.createElement('div');\n",
              "        docLink.innerHTML = docLinkHtml;\n",
              "        element.appendChild(docLink);\n",
              "      }\n",
              "    </script>\n",
              "  </div>\n",
              "\n",
              "\n",
              "<div id=\"df-199edc7f-b8ca-413f-bb6b-0808f93f5667\">\n",
              "  <button class=\"colab-df-quickchart\" onclick=\"quickchart('df-199edc7f-b8ca-413f-bb6b-0808f93f5667')\"\n",
              "            title=\"Suggest charts.\"\n",
              "            style=\"display:none;\">\n",
              "\n",
              "<svg xmlns=\"http://www.w3.org/2000/svg\" height=\"24px\"viewBox=\"0 0 24 24\"\n",
              "     width=\"24px\">\n",
              "    <g>\n",
              "        <path d=\"M19 3H5c-1.1 0-2 .9-2 2v14c0 1.1.9 2 2 2h14c1.1 0 2-.9 2-2V5c0-1.1-.9-2-2-2zM9 17H7v-7h2v7zm4 0h-2V7h2v10zm4 0h-2v-4h2v4z\"/>\n",
              "    </g>\n",
              "</svg>\n",
              "  </button>\n",
              "\n",
              "<style>\n",
              "  .colab-df-quickchart {\n",
              "      --bg-color: #E8F0FE;\n",
              "      --fill-color: #1967D2;\n",
              "      --hover-bg-color: #E2EBFA;\n",
              "      --hover-fill-color: #174EA6;\n",
              "      --disabled-fill-color: #AAA;\n",
              "      --disabled-bg-color: #DDD;\n",
              "  }\n",
              "\n",
              "  [theme=dark] .colab-df-quickchart {\n",
              "      --bg-color: #3B4455;\n",
              "      --fill-color: #D2E3FC;\n",
              "      --hover-bg-color: #434B5C;\n",
              "      --hover-fill-color: #FFFFFF;\n",
              "      --disabled-bg-color: #3B4455;\n",
              "      --disabled-fill-color: #666;\n",
              "  }\n",
              "\n",
              "  .colab-df-quickchart {\n",
              "    background-color: var(--bg-color);\n",
              "    border: none;\n",
              "    border-radius: 50%;\n",
              "    cursor: pointer;\n",
              "    display: none;\n",
              "    fill: var(--fill-color);\n",
              "    height: 32px;\n",
              "    padding: 0;\n",
              "    width: 32px;\n",
              "  }\n",
              "\n",
              "  .colab-df-quickchart:hover {\n",
              "    background-color: var(--hover-bg-color);\n",
              "    box-shadow: 0 1px 2px rgba(60, 64, 67, 0.3), 0 1px 3px 1px rgba(60, 64, 67, 0.15);\n",
              "    fill: var(--button-hover-fill-color);\n",
              "  }\n",
              "\n",
              "  .colab-df-quickchart-complete:disabled,\n",
              "  .colab-df-quickchart-complete:disabled:hover {\n",
              "    background-color: var(--disabled-bg-color);\n",
              "    fill: var(--disabled-fill-color);\n",
              "    box-shadow: none;\n",
              "  }\n",
              "\n",
              "  .colab-df-spinner {\n",
              "    border: 2px solid var(--fill-color);\n",
              "    border-color: transparent;\n",
              "    border-bottom-color: var(--fill-color);\n",
              "    animation:\n",
              "      spin 1s steps(1) infinite;\n",
              "  }\n",
              "\n",
              "  @keyframes spin {\n",
              "    0% {\n",
              "      border-color: transparent;\n",
              "      border-bottom-color: var(--fill-color);\n",
              "      border-left-color: var(--fill-color);\n",
              "    }\n",
              "    20% {\n",
              "      border-color: transparent;\n",
              "      border-left-color: var(--fill-color);\n",
              "      border-top-color: var(--fill-color);\n",
              "    }\n",
              "    30% {\n",
              "      border-color: transparent;\n",
              "      border-left-color: var(--fill-color);\n",
              "      border-top-color: var(--fill-color);\n",
              "      border-right-color: var(--fill-color);\n",
              "    }\n",
              "    40% {\n",
              "      border-color: transparent;\n",
              "      border-right-color: var(--fill-color);\n",
              "      border-top-color: var(--fill-color);\n",
              "    }\n",
              "    60% {\n",
              "      border-color: transparent;\n",
              "      border-right-color: var(--fill-color);\n",
              "    }\n",
              "    80% {\n",
              "      border-color: transparent;\n",
              "      border-right-color: var(--fill-color);\n",
              "      border-bottom-color: var(--fill-color);\n",
              "    }\n",
              "    90% {\n",
              "      border-color: transparent;\n",
              "      border-bottom-color: var(--fill-color);\n",
              "    }\n",
              "  }\n",
              "</style>\n",
              "\n",
              "  <script>\n",
              "    async function quickchart(key) {\n",
              "      const quickchartButtonEl =\n",
              "        document.querySelector('#' + key + ' button');\n",
              "      quickchartButtonEl.disabled = true;  // To prevent multiple clicks.\n",
              "      quickchartButtonEl.classList.add('colab-df-spinner');\n",
              "      try {\n",
              "        const charts = await google.colab.kernel.invokeFunction(\n",
              "            'suggestCharts', [key], {});\n",
              "      } catch (error) {\n",
              "        console.error('Error during call to suggestCharts:', error);\n",
              "      }\n",
              "      quickchartButtonEl.classList.remove('colab-df-spinner');\n",
              "      quickchartButtonEl.classList.add('colab-df-quickchart-complete');\n",
              "    }\n",
              "    (() => {\n",
              "      let quickchartButtonEl =\n",
              "        document.querySelector('#df-199edc7f-b8ca-413f-bb6b-0808f93f5667 button');\n",
              "      quickchartButtonEl.style.display =\n",
              "        google.colab.kernel.accessAllowed ? 'block' : 'none';\n",
              "    })();\n",
              "  </script>\n",
              "</div>\n",
              "    </div>\n",
              "  </div>\n"
            ]
          },
          "metadata": {},
          "execution_count": 5
        }
      ],
      "source": [
        "import pandas as pd\n",
        "pd.read_csv('/content/test1.csv')"
      ]
    },
    {
      "cell_type": "markdown",
      "source": [
        "Creating a Spark Session"
      ],
      "metadata": {
        "id": "x5Jr76rtIanD"
      },
      "id": "x5Jr76rtIanD"
    },
    {
      "cell_type": "code",
      "execution_count": 6,
      "id": "79814767",
      "metadata": {
        "id": "79814767"
      },
      "outputs": [],
      "source": [
        "from pyspark.sql import SparkSession"
      ]
    },
    {
      "cell_type": "code",
      "source": [
        "spark=SparkSession.builder.appName('Spark_Practise').getOrCreate()"
      ],
      "metadata": {
        "id": "hIZUwEdFGf-G"
      },
      "id": "hIZUwEdFGf-G",
      "execution_count": 7,
      "outputs": []
    },
    {
      "cell_type": "code",
      "source": [
        "spark"
      ],
      "metadata": {
        "colab": {
          "base_uri": "https://localhost:8080/",
          "height": 219
        },
        "id": "LjuMwTWGGnX9",
        "outputId": "f0e35b1e-a42e-4551-ab1c-d8c40a60be1a"
      },
      "id": "LjuMwTWGGnX9",
      "execution_count": 8,
      "outputs": [
        {
          "output_type": "execute_result",
          "data": {
            "text/plain": [
              "<pyspark.sql.session.SparkSession at 0x7d6579ea31f0>"
            ],
            "text/html": [
              "\n",
              "            <div>\n",
              "                <p><b>SparkSession - in-memory</b></p>\n",
              "                \n",
              "        <div>\n",
              "            <p><b>SparkContext</b></p>\n",
              "\n",
              "            <p><a href=\"http://f2d33421adeb:4040\">Spark UI</a></p>\n",
              "\n",
              "            <dl>\n",
              "              <dt>Version</dt>\n",
              "                <dd><code>v3.4.1</code></dd>\n",
              "              <dt>Master</dt>\n",
              "                <dd><code>local[*]</code></dd>\n",
              "              <dt>AppName</dt>\n",
              "                <dd><code>Spark_Practise</code></dd>\n",
              "            </dl>\n",
              "        </div>\n",
              "        \n",
              "            </div>\n",
              "        "
            ]
          },
          "metadata": {},
          "execution_count": 8
        }
      ]
    },
    {
      "cell_type": "code",
      "source": [
        "df_pyspark=spark.read.csv(\"/content/test1.csv\")"
      ],
      "metadata": {
        "id": "BSlAmBbvGrFV"
      },
      "id": "BSlAmBbvGrFV",
      "execution_count": 9,
      "outputs": []
    },
    {
      "cell_type": "code",
      "source": [
        "df_pyspark"
      ],
      "metadata": {
        "colab": {
          "base_uri": "https://localhost:8080/"
        },
        "id": "wNiuUNphIpnV",
        "outputId": "765b5def-015e-4ec4-ec5f-ca650f75e89a"
      },
      "id": "wNiuUNphIpnV",
      "execution_count": 10,
      "outputs": [
        {
          "output_type": "execute_result",
          "data": {
            "text/plain": [
              "DataFrame[_c0: string, _c1: string, _c2: string]"
            ]
          },
          "metadata": {},
          "execution_count": 10
        }
      ]
    },
    {
      "cell_type": "code",
      "source": [
        "df_pyspark.show()"
      ],
      "metadata": {
        "colab": {
          "base_uri": "https://localhost:8080/"
        },
        "id": "BnC8u8zaJN6F",
        "outputId": "b32433b4-59ec-4569-e142-df62ccaf01f7"
      },
      "id": "BnC8u8zaJN6F",
      "execution_count": 11,
      "outputs": [
        {
          "output_type": "stream",
          "name": "stdout",
          "text": [
            "+-------+---+----------+\n",
            "|    _c0|_c1|       _c2|\n",
            "+-------+---+----------+\n",
            "|   name|age|experience|\n",
            "| Viswaa| 19|        10|\n",
            "|Vignesh| 30|         8|\n",
            "| Ganesh| 26|         4|\n",
            "+-------+---+----------+\n",
            "\n"
          ]
        }
      ]
    },
    {
      "cell_type": "markdown",
      "source": [
        "The above means we have two columns and taking A and B as main column thus we are getting c0 and c1 instead of Name and Age we can solve it using below methon named **option - header**"
      ],
      "metadata": {
        "id": "QuqV4bdtI0f3"
      },
      "id": "QuqV4bdtI0f3"
    },
    {
      "cell_type": "code",
      "source": [
        "df_pyspark=spark.read.option('header','true').csv('test1.csv')"
      ],
      "metadata": {
        "id": "M1n0VJMEIs6E"
      },
      "id": "M1n0VJMEIs6E",
      "execution_count": 12,
      "outputs": []
    },
    {
      "cell_type": "code",
      "source": [
        "df_pyspark"
      ],
      "metadata": {
        "colab": {
          "base_uri": "https://localhost:8080/"
        },
        "id": "JqBod1qXJNC9",
        "outputId": "4cd7f507-e11b-47a3-dfc2-1fbd1fdc8997"
      },
      "id": "JqBod1qXJNC9",
      "execution_count": 13,
      "outputs": [
        {
          "output_type": "execute_result",
          "data": {
            "text/plain": [
              "DataFrame[name: string, age: string, experience: string]"
            ]
          },
          "metadata": {},
          "execution_count": 13
        }
      ]
    },
    {
      "cell_type": "code",
      "source": [
        "df_pyspark.show()"
      ],
      "metadata": {
        "colab": {
          "base_uri": "https://localhost:8080/"
        },
        "id": "iJiGtv_1JYVt",
        "outputId": "d1c327a2-bd2d-4a9b-f9c0-c85fd2445105"
      },
      "id": "iJiGtv_1JYVt",
      "execution_count": 14,
      "outputs": [
        {
          "output_type": "stream",
          "name": "stdout",
          "text": [
            "+-------+---+----------+\n",
            "|   name|age|experience|\n",
            "+-------+---+----------+\n",
            "| Viswaa| 19|        10|\n",
            "|Vignesh| 30|         8|\n",
            "| Ganesh| 26|         4|\n",
            "+-------+---+----------+\n",
            "\n"
          ]
        }
      ]
    },
    {
      "cell_type": "code",
      "source": [
        "type(df_pyspark)"
      ],
      "metadata": {
        "colab": {
          "base_uri": "https://localhost:8080/"
        },
        "id": "AcHSADulN2l2",
        "outputId": "c6f949b8-aacf-4f4d-c4c5-8b72b2fda152"
      },
      "id": "AcHSADulN2l2",
      "execution_count": 15,
      "outputs": [
        {
          "output_type": "execute_result",
          "data": {
            "text/plain": [
              "pyspark.sql.dataframe.DataFrame"
            ]
          },
          "metadata": {},
          "execution_count": 15
        }
      ]
    },
    {
      "cell_type": "code",
      "source": [
        "df_pyspark.head(3)"
      ],
      "metadata": {
        "colab": {
          "base_uri": "https://localhost:8080/"
        },
        "id": "M_yuhw5tORXz",
        "outputId": "93749a68-f861-4f21-bd49-883aa42dc160"
      },
      "id": "M_yuhw5tORXz",
      "execution_count": 16,
      "outputs": [
        {
          "output_type": "execute_result",
          "data": {
            "text/plain": [
              "[Row(name='Viswaa', age='19', experience='10'),\n",
              " Row(name='Vignesh', age='30', experience='8'),\n",
              " Row(name='Ganesh', age='26', experience='4')]"
            ]
          },
          "metadata": {},
          "execution_count": 16
        }
      ]
    },
    {
      "cell_type": "code",
      "source": [
        "df_pyspark.printSchema() #similar to .desc"
      ],
      "metadata": {
        "colab": {
          "base_uri": "https://localhost:8080/"
        },
        "id": "53khlVELOUIg",
        "outputId": "1edf3fbc-026f-44be-c00e-5b738ecfb681"
      },
      "id": "53khlVELOUIg",
      "execution_count": 17,
      "outputs": [
        {
          "output_type": "stream",
          "name": "stdout",
          "text": [
            "root\n",
            " |-- name: string (nullable = true)\n",
            " |-- age: string (nullable = true)\n",
            " |-- experience: string (nullable = true)\n",
            "\n"
          ]
        }
      ]
    },
    {
      "cell_type": "markdown",
      "source": [
        "**DATA FRAMES**"
      ],
      "metadata": {
        "id": "8Uc9pegMQAyi"
      },
      "id": "8Uc9pegMQAyi"
    },
    {
      "cell_type": "code",
      "source": [
        "spark=SparkSession.builder.appName('Data Frame').getOrCreate()"
      ],
      "metadata": {
        "id": "VLHNA4c7On-M"
      },
      "id": "VLHNA4c7On-M",
      "execution_count": 18,
      "outputs": []
    },
    {
      "cell_type": "markdown",
      "source": [
        "Read the dataset"
      ],
      "metadata": {
        "id": "D8rpsM-xQMpE"
      },
      "id": "D8rpsM-xQMpE"
    },
    {
      "cell_type": "code",
      "source": [
        "df=spark.read.option('header','true').csv('test1.csv')"
      ],
      "metadata": {
        "id": "fjCWH5-5QLjh"
      },
      "id": "fjCWH5-5QLjh",
      "execution_count": 19,
      "outputs": []
    },
    {
      "cell_type": "code",
      "source": [
        "df.show()"
      ],
      "metadata": {
        "colab": {
          "base_uri": "https://localhost:8080/"
        },
        "id": "fiu7wm87RGbm",
        "outputId": "39d2ddaa-9cac-4acb-cb59-31b790b939e7"
      },
      "id": "fiu7wm87RGbm",
      "execution_count": 20,
      "outputs": [
        {
          "output_type": "stream",
          "name": "stdout",
          "text": [
            "+-------+---+----------+\n",
            "|   name|age|experience|\n",
            "+-------+---+----------+\n",
            "| Viswaa| 19|        10|\n",
            "|Vignesh| 30|         8|\n",
            "| Ganesh| 26|         4|\n",
            "+-------+---+----------+\n",
            "\n"
          ]
        }
      ]
    },
    {
      "cell_type": "code",
      "source": [
        "df.printSchema()"
      ],
      "metadata": {
        "colab": {
          "base_uri": "https://localhost:8080/"
        },
        "id": "gljR6OV0QbFN",
        "outputId": "fc677a51-08d9-4e00-e039-51de955a097c"
      },
      "id": "gljR6OV0QbFN",
      "execution_count": 21,
      "outputs": [
        {
          "output_type": "stream",
          "name": "stdout",
          "text": [
            "root\n",
            " |-- name: string (nullable = true)\n",
            " |-- age: string (nullable = true)\n",
            " |-- experience: string (nullable = true)\n",
            "\n"
          ]
        }
      ]
    },
    {
      "cell_type": "markdown",
      "source": [
        "By default it is taking everything as string <br/>\n",
        "It can be changed using inferSchema"
      ],
      "metadata": {
        "id": "Gxe78iSPRCTQ"
      },
      "id": "Gxe78iSPRCTQ"
    },
    {
      "cell_type": "code",
      "source": [
        "df=spark.read.option('header','true').csv('test1.csv',inferSchema=True)"
      ],
      "metadata": {
        "id": "CctzzesuQ_vh"
      },
      "id": "CctzzesuQ_vh",
      "execution_count": 22,
      "outputs": []
    },
    {
      "cell_type": "code",
      "source": [
        "df.printSchema()"
      ],
      "metadata": {
        "colab": {
          "base_uri": "https://localhost:8080/"
        },
        "id": "DThlURFMRYTT",
        "outputId": "28c30866-57b2-4559-faca-a78816b01905"
      },
      "id": "DThlURFMRYTT",
      "execution_count": 23,
      "outputs": [
        {
          "output_type": "stream",
          "name": "stdout",
          "text": [
            "root\n",
            " |-- name: string (nullable = true)\n",
            " |-- age: integer (nullable = true)\n",
            " |-- experience: integer (nullable = true)\n",
            "\n"
          ]
        }
      ]
    },
    {
      "cell_type": "markdown",
      "source": [
        "Now we can see the data type is correct"
      ],
      "metadata": {
        "id": "jXK_kjyKRdYn"
      },
      "id": "jXK_kjyKRdYn"
    },
    {
      "cell_type": "markdown",
      "source": [
        "**Another way to do the above case**"
      ],
      "metadata": {
        "id": "9BzmU5SHRnKL"
      },
      "id": "9BzmU5SHRnKL"
    },
    {
      "cell_type": "code",
      "source": [
        " df=spark.read.csv(\"test1.csv\",header=True,inferSchema=True)"
      ],
      "metadata": {
        "id": "12qZGDvwRZd7"
      },
      "id": "12qZGDvwRZd7",
      "execution_count": 24,
      "outputs": []
    },
    {
      "cell_type": "code",
      "source": [
        "df.printSchema()"
      ],
      "metadata": {
        "colab": {
          "base_uri": "https://localhost:8080/"
        },
        "id": "kTaKfcvMRyBg",
        "outputId": "9fc34dee-050a-4abf-b535-35ca10b17ada"
      },
      "id": "kTaKfcvMRyBg",
      "execution_count": 25,
      "outputs": [
        {
          "output_type": "stream",
          "name": "stdout",
          "text": [
            "root\n",
            " |-- name: string (nullable = true)\n",
            " |-- age: integer (nullable = true)\n",
            " |-- experience: integer (nullable = true)\n",
            "\n"
          ]
        }
      ]
    },
    {
      "cell_type": "markdown",
      "source": [
        "Selecting Columns and Indexing"
      ],
      "metadata": {
        "id": "8cSiQuQ8TWKU"
      },
      "id": "8cSiQuQ8TWKU"
    },
    {
      "cell_type": "code",
      "source": [
        "df.columns"
      ],
      "metadata": {
        "colab": {
          "base_uri": "https://localhost:8080/"
        },
        "id": "chwyK74AR0vN",
        "outputId": "5b762722-f8e7-4b55-bb25-a4529fc83aaa"
      },
      "id": "chwyK74AR0vN",
      "execution_count": 26,
      "outputs": [
        {
          "output_type": "execute_result",
          "data": {
            "text/plain": [
              "['name', 'age', 'experience']"
            ]
          },
          "metadata": {},
          "execution_count": 26
        }
      ]
    },
    {
      "cell_type": "code",
      "source": [
        "df.select(\"name\").show() #return type is dataframe (pyspark dataframe) so use .show"
      ],
      "metadata": {
        "colab": {
          "base_uri": "https://localhost:8080/"
        },
        "id": "FzBohJtvTaLd",
        "outputId": "cb5428b0-0236-48c9-b4b5-59fbbb24cc14"
      },
      "id": "FzBohJtvTaLd",
      "execution_count": 27,
      "outputs": [
        {
          "output_type": "stream",
          "name": "stdout",
          "text": [
            "+-------+\n",
            "|   name|\n",
            "+-------+\n",
            "| Viswaa|\n",
            "|Vignesh|\n",
            "| Ganesh|\n",
            "+-------+\n",
            "\n"
          ]
        }
      ]
    },
    {
      "cell_type": "code",
      "source": [
        "df.select([\"name\",\"Experience\"]).show()"
      ],
      "metadata": {
        "colab": {
          "base_uri": "https://localhost:8080/"
        },
        "id": "d0mnutaxTrQj",
        "outputId": "70813554-d418-48cf-bbb3-6c6dfd8651ff"
      },
      "id": "d0mnutaxTrQj",
      "execution_count": 28,
      "outputs": [
        {
          "output_type": "stream",
          "name": "stdout",
          "text": [
            "+-------+----------+\n",
            "|   name|Experience|\n",
            "+-------+----------+\n",
            "| Viswaa|        10|\n",
            "|Vignesh|         8|\n",
            "| Ganesh|         4|\n",
            "+-------+----------+\n",
            "\n"
          ]
        }
      ]
    },
    {
      "cell_type": "markdown",
      "source": [
        "**Here slicing will not work**"
      ],
      "metadata": {
        "id": "a21XJ3VIVR1r"
      },
      "id": "a21XJ3VIVR1r"
    },
    {
      "cell_type": "markdown",
      "source": [
        "Checking the datatype"
      ],
      "metadata": {
        "id": "jQZTtyAIXq6p"
      },
      "id": "jQZTtyAIXq6p"
    },
    {
      "cell_type": "code",
      "source": [
        "df.dtypes"
      ],
      "metadata": {
        "colab": {
          "base_uri": "https://localhost:8080/"
        },
        "id": "KU2BRIdjT6rn",
        "outputId": "9a2ffe75-6982-4095-fa0f-401b52c9172d"
      },
      "id": "KU2BRIdjT6rn",
      "execution_count": 29,
      "outputs": [
        {
          "output_type": "execute_result",
          "data": {
            "text/plain": [
              "[('name', 'string'), ('age', 'int'), ('experience', 'int')]"
            ]
          },
          "metadata": {},
          "execution_count": 29
        }
      ]
    },
    {
      "cell_type": "markdown",
      "source": [
        "Describe Function"
      ],
      "metadata": {
        "id": "cXM_gxdyX29-"
      },
      "id": "cXM_gxdyX29-"
    },
    {
      "cell_type": "code",
      "source": [
        "df.describe()"
      ],
      "metadata": {
        "colab": {
          "base_uri": "https://localhost:8080/"
        },
        "id": "P1U6oyOtXXCv",
        "outputId": "60d22002-4e93-4f20-f1da-c61072eacd03"
      },
      "id": "P1U6oyOtXXCv",
      "execution_count": 30,
      "outputs": [
        {
          "output_type": "execute_result",
          "data": {
            "text/plain": [
              "DataFrame[summary: string, name: string, age: string, experience: string]"
            ]
          },
          "metadata": {},
          "execution_count": 30
        }
      ]
    },
    {
      "cell_type": "markdown",
      "source": [
        "on .show gives us standard deviation and mean"
      ],
      "metadata": {
        "id": "3BZHNCzdYBtU"
      },
      "id": "3BZHNCzdYBtU"
    },
    {
      "cell_type": "code",
      "source": [
        "df.describe().show()"
      ],
      "metadata": {
        "colab": {
          "base_uri": "https://localhost:8080/"
        },
        "id": "2MbikeU5X6Sh",
        "outputId": "2e6b04ef-7da6-4851-eeef-c9e7bc0a81a5"
      },
      "id": "2MbikeU5X6Sh",
      "execution_count": 31,
      "outputs": [
        {
          "output_type": "stream",
          "name": "stdout",
          "text": [
            "+-------+------+------------------+-----------------+\n",
            "|summary|  name|               age|       experience|\n",
            "+-------+------+------------------+-----------------+\n",
            "|  count|     3|                 3|                3|\n",
            "|   mean|  null|              25.0|7.333333333333333|\n",
            "| stddev|  null|5.5677643628300215|3.055050463303893|\n",
            "|    min|Ganesh|                19|                4|\n",
            "|    max|Viswaa|                30|               10|\n",
            "+-------+------+------------------+-----------------+\n",
            "\n"
          ]
        }
      ]
    },
    {
      "cell_type": "markdown",
      "source": [
        "Adding Columns"
      ],
      "metadata": {
        "id": "kIK25ieIYcxY"
      },
      "id": "kIK25ieIYcxY"
    },
    {
      "cell_type": "code",
      "source": [
        "df=df.withColumn(\"Experience After 2 Years\",df[\"experience\"]+2)"
      ],
      "metadata": {
        "id": "ncTJP-0DX-F7"
      },
      "id": "ncTJP-0DX-F7",
      "execution_count": 32,
      "outputs": []
    },
    {
      "cell_type": "code",
      "source": [
        "df.show()"
      ],
      "metadata": {
        "colab": {
          "base_uri": "https://localhost:8080/"
        },
        "id": "yzrqqTvRYwHp",
        "outputId": "ce6766cb-5fd0-423f-be33-b8373a7ecfc2"
      },
      "id": "yzrqqTvRYwHp",
      "execution_count": 33,
      "outputs": [
        {
          "output_type": "stream",
          "name": "stdout",
          "text": [
            "+-------+---+----------+------------------------+\n",
            "|   name|age|experience|Experience After 2 Years|\n",
            "+-------+---+----------+------------------------+\n",
            "| Viswaa| 19|        10|                      12|\n",
            "|Vignesh| 30|         8|                      10|\n",
            "| Ganesh| 26|         4|                       6|\n",
            "+-------+---+----------+------------------------+\n",
            "\n"
          ]
        }
      ]
    },
    {
      "cell_type": "markdown",
      "source": [
        "Drop Columns"
      ],
      "metadata": {
        "id": "-YMagAnqZNnP"
      },
      "id": "-YMagAnqZNnP"
    },
    {
      "cell_type": "code",
      "source": [
        "df=df.drop(\"Experience After 2 Years\")"
      ],
      "metadata": {
        "id": "FwnuETIeYxs9"
      },
      "id": "FwnuETIeYxs9",
      "execution_count": 34,
      "outputs": []
    },
    {
      "cell_type": "code",
      "source": [
        "df.show()"
      ],
      "metadata": {
        "colab": {
          "base_uri": "https://localhost:8080/"
        },
        "id": "IpJJQYkqZSkQ",
        "outputId": "a875026b-2a13-4318-9fb9-77369069e6c1"
      },
      "id": "IpJJQYkqZSkQ",
      "execution_count": 35,
      "outputs": [
        {
          "output_type": "stream",
          "name": "stdout",
          "text": [
            "+-------+---+----------+\n",
            "|   name|age|experience|\n",
            "+-------+---+----------+\n",
            "| Viswaa| 19|        10|\n",
            "|Vignesh| 30|         8|\n",
            "| Ganesh| 26|         4|\n",
            "+-------+---+----------+\n",
            "\n"
          ]
        }
      ]
    },
    {
      "cell_type": "markdown",
      "source": [
        "Rename Column"
      ],
      "metadata": {
        "id": "C1_qD7JbZbHD"
      },
      "id": "C1_qD7JbZbHD"
    },
    {
      "cell_type": "code",
      "source": [
        "df=df.withColumnRenamed(\"name\",\"firstname\")"
      ],
      "metadata": {
        "id": "bplhnNnMZTuq"
      },
      "id": "bplhnNnMZTuq",
      "execution_count": 36,
      "outputs": []
    },
    {
      "cell_type": "code",
      "source": [
        "df.show()"
      ],
      "metadata": {
        "colab": {
          "base_uri": "https://localhost:8080/"
        },
        "id": "8JqsZR-zZhKK",
        "outputId": "e48b6052-5c1f-4ab5-c038-41d510a6a82a"
      },
      "id": "8JqsZR-zZhKK",
      "execution_count": 37,
      "outputs": [
        {
          "output_type": "stream",
          "name": "stdout",
          "text": [
            "+---------+---+----------+\n",
            "|firstname|age|experience|\n",
            "+---------+---+----------+\n",
            "|   Viswaa| 19|        10|\n",
            "|  Vignesh| 30|         8|\n",
            "|   Ganesh| 26|         4|\n",
            "+---------+---+----------+\n",
            "\n"
          ]
        }
      ]
    },
    {
      "cell_type": "markdown",
      "source": [
        "**Handling Missing Values**"
      ],
      "metadata": {
        "id": "ODCuEm8eXubF"
      },
      "id": "ODCuEm8eXubF"
    },
    {
      "cell_type": "code",
      "source": [
        "from pyspark.sql import SparkSession"
      ],
      "metadata": {
        "id": "CEcRw1I2ZiCu"
      },
      "id": "CEcRw1I2ZiCu",
      "execution_count": 38,
      "outputs": []
    },
    {
      "cell_type": "code",
      "source": [
        "spark=SparkSession.builder.appName(\"Missing Values\").getOrCreate()"
      ],
      "metadata": {
        "id": "hPIRgUrKYQL8"
      },
      "id": "hPIRgUrKYQL8",
      "execution_count": 39,
      "outputs": []
    },
    {
      "cell_type": "code",
      "source": [
        "d=spark.read.csv(\"/content/tes2.csv\",header=True,inferSchema=True)"
      ],
      "metadata": {
        "id": "zpG3vK8sYW3v"
      },
      "id": "zpG3vK8sYW3v",
      "execution_count": 40,
      "outputs": []
    },
    {
      "cell_type": "code",
      "source": [
        "d.show()"
      ],
      "metadata": {
        "colab": {
          "base_uri": "https://localhost:8080/"
        },
        "id": "B9w1TOjBZQb-",
        "outputId": "857dac16-41e5-475f-cd29-37869c140744"
      },
      "id": "B9w1TOjBZQb-",
      "execution_count": 41,
      "outputs": [
        {
          "output_type": "stream",
          "name": "stdout",
          "text": [
            "+----------+----+----------+------+\n",
            "|      Name| Age|Experience|Salary|\n",
            "+----------+----+----------+------+\n",
            "|     Krish|  31|        10| 30000|\n",
            "|Sudharshan|  30|         8| 25000|\n",
            "|     Sunny|  29|         4| 20000|\n",
            "|      Paul|  24|         3| 20000|\n",
            "|    Harsha|  21|         1| 15000|\n",
            "|   Shubham|  23|         2| 18000|\n",
            "|    Mahesh|null|      null| 40000|\n",
            "|      null|  34|        10| 38000|\n",
            "|      null|  36|      null|  null|\n",
            "+----------+----+----------+------+\n",
            "\n"
          ]
        }
      ]
    },
    {
      "cell_type": "markdown",
      "source": [
        "Drop the columns"
      ],
      "metadata": {
        "id": "YQFqChcuZYLZ"
      },
      "id": "YQFqChcuZYLZ"
    },
    {
      "cell_type": "code",
      "source": [
        "d.drop(\"Name\").show()"
      ],
      "metadata": {
        "colab": {
          "base_uri": "https://localhost:8080/"
        },
        "id": "nh2TymYYZUDP",
        "outputId": "6c23582c-215c-4b11-9501-5998d0ea4844"
      },
      "id": "nh2TymYYZUDP",
      "execution_count": 42,
      "outputs": [
        {
          "output_type": "stream",
          "name": "stdout",
          "text": [
            "+----+----------+------+\n",
            "| Age|Experience|Salary|\n",
            "+----+----------+------+\n",
            "|  31|        10| 30000|\n",
            "|  30|         8| 25000|\n",
            "|  29|         4| 20000|\n",
            "|  24|         3| 20000|\n",
            "|  21|         1| 15000|\n",
            "|  23|         2| 18000|\n",
            "|null|      null| 40000|\n",
            "|  34|        10| 38000|\n",
            "|  36|      null|  null|\n",
            "+----+----------+------+\n",
            "\n"
          ]
        }
      ]
    },
    {
      "cell_type": "markdown",
      "source": [
        "Dropping rows with null values"
      ],
      "metadata": {
        "id": "vNKO90S8ZlM9"
      },
      "id": "vNKO90S8ZlM9"
    },
    {
      "cell_type": "code",
      "source": [
        "d.na.drop().show()"
      ],
      "metadata": {
        "colab": {
          "base_uri": "https://localhost:8080/"
        },
        "id": "dZqRYF1XZbUh",
        "outputId": "c952b466-4ecf-478f-f839-ef4dcd1ca8ce"
      },
      "id": "dZqRYF1XZbUh",
      "execution_count": 43,
      "outputs": [
        {
          "output_type": "stream",
          "name": "stdout",
          "text": [
            "+----------+---+----------+------+\n",
            "|      Name|Age|Experience|Salary|\n",
            "+----------+---+----------+------+\n",
            "|     Krish| 31|        10| 30000|\n",
            "|Sudharshan| 30|         8| 25000|\n",
            "|     Sunny| 29|         4| 20000|\n",
            "|      Paul| 24|         3| 20000|\n",
            "|    Harsha| 21|         1| 15000|\n",
            "|   Shubham| 23|         2| 18000|\n",
            "+----------+---+----------+------+\n",
            "\n"
          ]
        }
      ]
    },
    {
      "cell_type": "markdown",
      "source": [
        "how parameter (any or all)"
      ],
      "metadata": {
        "id": "0sbqGbyGZ7Qv"
      },
      "id": "0sbqGbyGZ7Qv"
    },
    {
      "cell_type": "code",
      "source": [
        "d.na.drop(how=\"all\").show() #here it drops a row only when a row fully is null\n",
        "#by default it is any"
      ],
      "metadata": {
        "colab": {
          "base_uri": "https://localhost:8080/"
        },
        "id": "x9ivIfOhZqNM",
        "outputId": "99aafca0-f641-4f74-80fc-3cd7f450ae73"
      },
      "id": "x9ivIfOhZqNM",
      "execution_count": 44,
      "outputs": [
        {
          "output_type": "stream",
          "name": "stdout",
          "text": [
            "+----------+----+----------+------+\n",
            "|      Name| Age|Experience|Salary|\n",
            "+----------+----+----------+------+\n",
            "|     Krish|  31|        10| 30000|\n",
            "|Sudharshan|  30|         8| 25000|\n",
            "|     Sunny|  29|         4| 20000|\n",
            "|      Paul|  24|         3| 20000|\n",
            "|    Harsha|  21|         1| 15000|\n",
            "|   Shubham|  23|         2| 18000|\n",
            "|    Mahesh|null|      null| 40000|\n",
            "|      null|  34|        10| 38000|\n",
            "|      null|  36|      null|  null|\n",
            "+----------+----+----------+------+\n",
            "\n"
          ]
        }
      ]
    },
    {
      "cell_type": "markdown",
      "source": [
        "Threshold parameter"
      ],
      "metadata": {
        "id": "h5NTtb5VaTEs"
      },
      "id": "h5NTtb5VaTEs"
    },
    {
      "cell_type": "code",
      "source": [
        "d.na.drop(how=\"any\",thresh=2).show() #atleast 2 non null value must be present"
      ],
      "metadata": {
        "colab": {
          "base_uri": "https://localhost:8080/"
        },
        "id": "cteSosJZaKTf",
        "outputId": "13d80075-3b7d-4891-eaea-71290f877454"
      },
      "id": "cteSosJZaKTf",
      "execution_count": 45,
      "outputs": [
        {
          "output_type": "stream",
          "name": "stdout",
          "text": [
            "+----------+----+----------+------+\n",
            "|      Name| Age|Experience|Salary|\n",
            "+----------+----+----------+------+\n",
            "|     Krish|  31|        10| 30000|\n",
            "|Sudharshan|  30|         8| 25000|\n",
            "|     Sunny|  29|         4| 20000|\n",
            "|      Paul|  24|         3| 20000|\n",
            "|    Harsha|  21|         1| 15000|\n",
            "|   Shubham|  23|         2| 18000|\n",
            "|    Mahesh|null|      null| 40000|\n",
            "|      null|  34|        10| 38000|\n",
            "+----------+----+----------+------+\n",
            "\n"
          ]
        }
      ]
    },
    {
      "cell_type": "code",
      "source": [
        "d.na.drop(how=\"any\",thresh=1).show() #atleast 1 non null value must be present"
      ],
      "metadata": {
        "colab": {
          "base_uri": "https://localhost:8080/"
        },
        "id": "CcqfrO8TaY8s",
        "outputId": "814422e6-6c21-42ca-fa77-df8aea01ddcd"
      },
      "id": "CcqfrO8TaY8s",
      "execution_count": 46,
      "outputs": [
        {
          "output_type": "stream",
          "name": "stdout",
          "text": [
            "+----------+----+----------+------+\n",
            "|      Name| Age|Experience|Salary|\n",
            "+----------+----+----------+------+\n",
            "|     Krish|  31|        10| 30000|\n",
            "|Sudharshan|  30|         8| 25000|\n",
            "|     Sunny|  29|         4| 20000|\n",
            "|      Paul|  24|         3| 20000|\n",
            "|    Harsha|  21|         1| 15000|\n",
            "|   Shubham|  23|         2| 18000|\n",
            "|    Mahesh|null|      null| 40000|\n",
            "|      null|  34|        10| 38000|\n",
            "|      null|  36|      null|  null|\n",
            "+----------+----+----------+------+\n",
            "\n"
          ]
        }
      ]
    },
    {
      "cell_type": "markdown",
      "source": [
        "subset parameter - remove null value from specific columns"
      ],
      "metadata": {
        "id": "4Y11ahKWa0OJ"
      },
      "id": "4Y11ahKWa0OJ"
    },
    {
      "cell_type": "code",
      "source": [
        "d.na.drop(how=\"any\",subset=[\"Experience\"]).show()"
      ],
      "metadata": {
        "colab": {
          "base_uri": "https://localhost:8080/"
        },
        "id": "3ZKrMN8Van1h",
        "outputId": "a3d22e88-afce-49e6-bcb4-eb23d0c84730"
      },
      "id": "3ZKrMN8Van1h",
      "execution_count": 47,
      "outputs": [
        {
          "output_type": "stream",
          "name": "stdout",
          "text": [
            "+----------+---+----------+------+\n",
            "|      Name|Age|Experience|Salary|\n",
            "+----------+---+----------+------+\n",
            "|     Krish| 31|        10| 30000|\n",
            "|Sudharshan| 30|         8| 25000|\n",
            "|     Sunny| 29|         4| 20000|\n",
            "|      Paul| 24|         3| 20000|\n",
            "|    Harsha| 21|         1| 15000|\n",
            "|   Shubham| 23|         2| 18000|\n",
            "|      null| 34|        10| 38000|\n",
            "+----------+---+----------+------+\n",
            "\n"
          ]
        }
      ]
    },
    {
      "cell_type": "markdown",
      "source": [
        "Filling missing values"
      ],
      "metadata": {
        "id": "YVDBtc1Lc7dn"
      },
      "id": "YVDBtc1Lc7dn"
    },
    {
      "cell_type": "code",
      "source": [
        "d.na.fill(\"Missing Values\").show()"
      ],
      "metadata": {
        "colab": {
          "base_uri": "https://localhost:8080/"
        },
        "id": "Qb59cEGMcx6G",
        "outputId": "6184a607-9080-498b-a6d2-6084a9827598"
      },
      "id": "Qb59cEGMcx6G",
      "execution_count": 48,
      "outputs": [
        {
          "output_type": "stream",
          "name": "stdout",
          "text": [
            "+--------------+----+----------+------+\n",
            "|          Name| Age|Experience|Salary|\n",
            "+--------------+----+----------+------+\n",
            "|         Krish|  31|        10| 30000|\n",
            "|    Sudharshan|  30|         8| 25000|\n",
            "|         Sunny|  29|         4| 20000|\n",
            "|          Paul|  24|         3| 20000|\n",
            "|        Harsha|  21|         1| 15000|\n",
            "|       Shubham|  23|         2| 18000|\n",
            "|        Mahesh|null|      null| 40000|\n",
            "|Missing Values|  34|        10| 38000|\n",
            "|Missing Values|  36|      null|  null|\n",
            "+--------------+----+----------+------+\n",
            "\n"
          ]
        }
      ]
    },
    {
      "cell_type": "code",
      "source": [
        "d.na.fill(\"Missing Values\",\"Experience\").show()"
      ],
      "metadata": {
        "colab": {
          "base_uri": "https://localhost:8080/"
        },
        "id": "tP4qunOodIUH",
        "outputId": "42b37e08-c585-4fb0-cd1a-a8e3b446f2ba"
      },
      "id": "tP4qunOodIUH",
      "execution_count": 49,
      "outputs": [
        {
          "output_type": "stream",
          "name": "stdout",
          "text": [
            "+----------+----+----------+------+\n",
            "|      Name| Age|Experience|Salary|\n",
            "+----------+----+----------+------+\n",
            "|     Krish|  31|        10| 30000|\n",
            "|Sudharshan|  30|         8| 25000|\n",
            "|     Sunny|  29|         4| 20000|\n",
            "|      Paul|  24|         3| 20000|\n",
            "|    Harsha|  21|         1| 15000|\n",
            "|   Shubham|  23|         2| 18000|\n",
            "|    Mahesh|null|      null| 40000|\n",
            "|      null|  34|        10| 38000|\n",
            "|      null|  36|      null|  null|\n",
            "+----------+----+----------+------+\n",
            "\n"
          ]
        }
      ]
    },
    {
      "cell_type": "code",
      "source": [
        "d.na.fill(\"Missing Values\",[\"Experience\",\"Age\"]).show()"
      ],
      "metadata": {
        "colab": {
          "base_uri": "https://localhost:8080/"
        },
        "id": "snCzEEEAdLS7",
        "outputId": "8cd7cf69-3a03-4d81-f2f2-abc8e8eebcc2"
      },
      "id": "snCzEEEAdLS7",
      "execution_count": 50,
      "outputs": [
        {
          "output_type": "stream",
          "name": "stdout",
          "text": [
            "+----------+----+----------+------+\n",
            "|      Name| Age|Experience|Salary|\n",
            "+----------+----+----------+------+\n",
            "|     Krish|  31|        10| 30000|\n",
            "|Sudharshan|  30|         8| 25000|\n",
            "|     Sunny|  29|         4| 20000|\n",
            "|      Paul|  24|         3| 20000|\n",
            "|    Harsha|  21|         1| 15000|\n",
            "|   Shubham|  23|         2| 18000|\n",
            "|    Mahesh|null|      null| 40000|\n",
            "|      null|  34|        10| 38000|\n",
            "|      null|  36|      null|  null|\n",
            "+----------+----+----------+------+\n",
            "\n"
          ]
        }
      ]
    },
    {
      "cell_type": "markdown",
      "source": [
        "Inputer Function"
      ],
      "metadata": {
        "id": "nXYTDW2-dkVc"
      },
      "id": "nXYTDW2-dkVc"
    },
    {
      "cell_type": "code",
      "source": [
        "d.show()"
      ],
      "metadata": {
        "colab": {
          "base_uri": "https://localhost:8080/"
        },
        "id": "GHqmuYOvdOzK",
        "outputId": "e838b24a-276d-4d87-8bb4-903b01253b16"
      },
      "id": "GHqmuYOvdOzK",
      "execution_count": 51,
      "outputs": [
        {
          "output_type": "stream",
          "name": "stdout",
          "text": [
            "+----------+----+----------+------+\n",
            "|      Name| Age|Experience|Salary|\n",
            "+----------+----+----------+------+\n",
            "|     Krish|  31|        10| 30000|\n",
            "|Sudharshan|  30|         8| 25000|\n",
            "|     Sunny|  29|         4| 20000|\n",
            "|      Paul|  24|         3| 20000|\n",
            "|    Harsha|  21|         1| 15000|\n",
            "|   Shubham|  23|         2| 18000|\n",
            "|    Mahesh|null|      null| 40000|\n",
            "|      null|  34|        10| 38000|\n",
            "|      null|  36|      null|  null|\n",
            "+----------+----+----------+------+\n",
            "\n"
          ]
        }
      ]
    },
    {
      "cell_type": "code",
      "source": [
        "from pyspark.ml.feature import Imputer\n",
        "\n",
        "imputer = Imputer(inputCols=[\"Age\",\"Experience\",\"Salary\"],outputCols=[\"{}_inputed\".format(c) for c in [\"Age\",\"Experience\",\"Salary\"]]).setStrategy(\"mean\")"
      ],
      "metadata": {
        "id": "U7-cHjupdmun"
      },
      "id": "U7-cHjupdmun",
      "execution_count": 52,
      "outputs": []
    },
    {
      "cell_type": "markdown",
      "source": [
        "Now we are going to fit and transform"
      ],
      "metadata": {
        "id": "gfpSidqPeskM"
      },
      "id": "gfpSidqPeskM"
    },
    {
      "cell_type": "markdown",
      "source": [
        "Now Null values will be replaced by mean"
      ],
      "metadata": {
        "id": "19sbD-crZm1o"
      },
      "id": "19sbD-crZm1o"
    },
    {
      "cell_type": "code",
      "source": [
        "imputer.fit(d).transform(d).show()"
      ],
      "metadata": {
        "id": "j9uhDJYxeCkU",
        "colab": {
          "base_uri": "https://localhost:8080/"
        },
        "outputId": "31da2796-9a68-49b5-d8a3-1cd44470f1c3"
      },
      "id": "j9uhDJYxeCkU",
      "execution_count": 55,
      "outputs": [
        {
          "output_type": "stream",
          "name": "stdout",
          "text": [
            "+----------+----+----------+------+-----------+------------------+--------------+\n",
            "|      Name| Age|Experience|Salary|Age_inputed|Experience_inputed|Salary_inputed|\n",
            "+----------+----+----------+------+-----------+------------------+--------------+\n",
            "|     Krish|  31|        10| 30000|         31|                10|         30000|\n",
            "|Sudharshan|  30|         8| 25000|         30|                 8|         25000|\n",
            "|     Sunny|  29|         4| 20000|         29|                 4|         20000|\n",
            "|      Paul|  24|         3| 20000|         24|                 3|         20000|\n",
            "|    Harsha|  21|         1| 15000|         21|                 1|         15000|\n",
            "|   Shubham|  23|         2| 18000|         23|                 2|         18000|\n",
            "|    Mahesh|null|      null| 40000|         28|                 5|         40000|\n",
            "|      null|  34|        10| 38000|         34|                10|         38000|\n",
            "|      null|  36|      null|  null|         36|                 5|         25750|\n",
            "+----------+----+----------+------+-----------+------------------+--------------+\n",
            "\n"
          ]
        }
      ]
    },
    {
      "cell_type": "markdown",
      "source": [
        "We can do the above method using median and mode as well"
      ],
      "metadata": {
        "id": "hdbdt-Z1Ztnf"
      },
      "id": "hdbdt-Z1Ztnf"
    },
    {
      "cell_type": "markdown",
      "source": [
        "Filter Operation"
      ],
      "metadata": {
        "id": "HTgfH9EGZwzU"
      },
      "id": "HTgfH9EGZwzU"
    },
    {
      "cell_type": "code",
      "source": [
        "from pyspark.sql import SparkSession"
      ],
      "metadata": {
        "id": "mtdzjSXuZgGf"
      },
      "id": "mtdzjSXuZgGf",
      "execution_count": 56,
      "outputs": []
    },
    {
      "cell_type": "code",
      "source": [
        "spark=SparkSession.builder.appName(\"Filter\").getOrCreate()"
      ],
      "metadata": {
        "id": "W6MDe8Ljafe0"
      },
      "id": "W6MDe8Ljafe0",
      "execution_count": 57,
      "outputs": []
    },
    {
      "cell_type": "code",
      "source": [
        "d=spark.read.csv(\"/content/test3.csv\",header=True,inferSchema=True)\n",
        "d.show()"
      ],
      "metadata": {
        "colab": {
          "base_uri": "https://localhost:8080/"
        },
        "id": "X1NQltSKalUE",
        "outputId": "82395e23-c45a-4c74-a6d7-b2f7c0ca4a55"
      },
      "id": "X1NQltSKalUE",
      "execution_count": 60,
      "outputs": [
        {
          "output_type": "stream",
          "name": "stdout",
          "text": [
            "+----------+---+----------+------+\n",
            "|      Name|Age|Experience|Salary|\n",
            "+----------+---+----------+------+\n",
            "|     Krish| 31|        10| 30000|\n",
            "|Sudharshan| 30|         8| 25000|\n",
            "|     Sunny| 29|         4| 20000|\n",
            "|      Paul| 24|         3| 20000|\n",
            "|    Harsha|  2|         1| 15000|\n",
            "|   Shubham| 23|         2| 18000|\n",
            "+----------+---+----------+------+\n",
            "\n"
          ]
        }
      ]
    },
    {
      "cell_type": "markdown",
      "source": [
        "salary of people less than or equal to 20000"
      ],
      "metadata": {
        "id": "mD1KWecNbQp9"
      },
      "id": "mD1KWecNbQp9"
    },
    {
      "cell_type": "code",
      "source": [
        "d.filter(\"Salary<=20000\").show()"
      ],
      "metadata": {
        "colab": {
          "base_uri": "https://localhost:8080/"
        },
        "id": "3_BKvtz6at_-",
        "outputId": "086d4ec7-e1cf-4d7d-c424-aa5232a3948a"
      },
      "id": "3_BKvtz6at_-",
      "execution_count": 61,
      "outputs": [
        {
          "output_type": "stream",
          "name": "stdout",
          "text": [
            "+-------+---+----------+------+\n",
            "|   Name|Age|Experience|Salary|\n",
            "+-------+---+----------+------+\n",
            "|  Sunny| 29|         4| 20000|\n",
            "|   Paul| 24|         3| 20000|\n",
            "| Harsha|  2|         1| 15000|\n",
            "|Shubham| 23|         2| 18000|\n",
            "+-------+---+----------+------+\n",
            "\n"
          ]
        }
      ]
    },
    {
      "cell_type": "markdown",
      "source": [
        "To select particular columns along with filter"
      ],
      "metadata": {
        "id": "tKTL8ScPbeYK"
      },
      "id": "tKTL8ScPbeYK"
    },
    {
      "cell_type": "code",
      "source": [
        "d.filter(\"Salary<=20000\").select([\"Name\",\"Age\"]).show()"
      ],
      "metadata": {
        "colab": {
          "base_uri": "https://localhost:8080/"
        },
        "id": "5_uzwbh9bWWJ",
        "outputId": "822ae556-8613-4f7b-ebb2-bc8f605d2826"
      },
      "id": "5_uzwbh9bWWJ",
      "execution_count": 62,
      "outputs": [
        {
          "output_type": "stream",
          "name": "stdout",
          "text": [
            "+-------+---+\n",
            "|   Name|Age|\n",
            "+-------+---+\n",
            "|  Sunny| 29|\n",
            "|   Paul| 24|\n",
            "| Harsha|  2|\n",
            "|Shubham| 23|\n",
            "+-------+---+\n",
            "\n"
          ]
        }
      ]
    },
    {
      "cell_type": "markdown",
      "source": [
        "Another way"
      ],
      "metadata": {
        "id": "G_sfeECmbnxh"
      },
      "id": "G_sfeECmbnxh"
    },
    {
      "cell_type": "code",
      "source": [
        "d.filter(d[\"Salary\"]<=20000).show()"
      ],
      "metadata": {
        "colab": {
          "base_uri": "https://localhost:8080/"
        },
        "id": "TgjhDOV2bdnq",
        "outputId": "5ed8d441-1520-4bb5-edfd-6ba937aa73d5"
      },
      "id": "TgjhDOV2bdnq",
      "execution_count": 63,
      "outputs": [
        {
          "output_type": "stream",
          "name": "stdout",
          "text": [
            "+-------+---+----------+------+\n",
            "|   Name|Age|Experience|Salary|\n",
            "+-------+---+----------+------+\n",
            "|  Sunny| 29|         4| 20000|\n",
            "|   Paul| 24|         3| 20000|\n",
            "| Harsha|  2|         1| 15000|\n",
            "|Shubham| 23|         2| 18000|\n",
            "+-------+---+----------+------+\n",
            "\n"
          ]
        }
      ]
    },
    {
      "cell_type": "markdown",
      "source": [
        "More than one condition"
      ],
      "metadata": {
        "id": "dSmpElZ4bpI7"
      },
      "id": "dSmpElZ4bpI7"
    },
    {
      "cell_type": "code",
      "source": [
        "d.filter((d[\"Salary\"]<=20000) &\n",
        "         (d[\"Salary\"]>=15000)).show()"
      ],
      "metadata": {
        "colab": {
          "base_uri": "https://localhost:8080/"
        },
        "id": "sDIWrce0bm_C",
        "outputId": "b1fc7111-68a3-4da9-d715-d36519c4a456"
      },
      "id": "sDIWrce0bm_C",
      "execution_count": 66,
      "outputs": [
        {
          "output_type": "stream",
          "name": "stdout",
          "text": [
            "+-------+---+----------+------+\n",
            "|   Name|Age|Experience|Salary|\n",
            "+-------+---+----------+------+\n",
            "|  Sunny| 29|         4| 20000|\n",
            "|   Paul| 24|         3| 20000|\n",
            "| Harsha|  2|         1| 15000|\n",
            "|Shubham| 23|         2| 18000|\n",
            "+-------+---+----------+------+\n",
            "\n"
          ]
        }
      ]
    },
    {
      "cell_type": "code",
      "source": [
        "d.filter((d[\"Salary\"]<=20000) |\n",
        "         (d[\"Salary\"]>=15000)).show()"
      ],
      "metadata": {
        "colab": {
          "base_uri": "https://localhost:8080/"
        },
        "id": "hT-tyOM6b3dZ",
        "outputId": "6552726e-8006-4204-dadb-a4e2bf3b4d8a"
      },
      "id": "hT-tyOM6b3dZ",
      "execution_count": 67,
      "outputs": [
        {
          "output_type": "stream",
          "name": "stdout",
          "text": [
            "+----------+---+----------+------+\n",
            "|      Name|Age|Experience|Salary|\n",
            "+----------+---+----------+------+\n",
            "|     Krish| 31|        10| 30000|\n",
            "|Sudharshan| 30|         8| 25000|\n",
            "|     Sunny| 29|         4| 20000|\n",
            "|      Paul| 24|         3| 20000|\n",
            "|    Harsha|  2|         1| 15000|\n",
            "|   Shubham| 23|         2| 18000|\n",
            "+----------+---+----------+------+\n",
            "\n"
          ]
        }
      ]
    },
    {
      "cell_type": "code",
      "source": [
        "d.filter(~(d[\"Salary\"]<=20000)).show()"
      ],
      "metadata": {
        "colab": {
          "base_uri": "https://localhost:8080/"
        },
        "id": "Yho4X6Qfb_qu",
        "outputId": "2e42459a-1b3f-4692-e542-ff22684f698b"
      },
      "id": "Yho4X6Qfb_qu",
      "execution_count": 68,
      "outputs": [
        {
          "output_type": "stream",
          "name": "stdout",
          "text": [
            "+----------+---+----------+------+\n",
            "|      Name|Age|Experience|Salary|\n",
            "+----------+---+----------+------+\n",
            "|     Krish| 31|        10| 30000|\n",
            "|Sudharshan| 30|         8| 25000|\n",
            "+----------+---+----------+------+\n",
            "\n"
          ]
        }
      ]
    },
    {
      "cell_type": "code",
      "source": [],
      "metadata": {
        "id": "2F4knLRUcKQQ"
      },
      "id": "2F4knLRUcKQQ",
      "execution_count": null,
      "outputs": []
    }
  ],
  "metadata": {
    "kernelspec": {
      "display_name": "Python 3 (ipykernel)",
      "language": "python",
      "name": "python3"
    },
    "language_info": {
      "codemirror_mode": {
        "name": "ipython",
        "version": 3
      },
      "file_extension": ".py",
      "mimetype": "text/x-python",
      "name": "python",
      "nbconvert_exporter": "python",
      "pygments_lexer": "ipython3",
      "version": "3.11.3"
    },
    "colab": {
      "provenance": []
    }
  },
  "nbformat": 4,
  "nbformat_minor": 5
}